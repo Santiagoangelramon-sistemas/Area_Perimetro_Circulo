{
  "nbformat": 4,
  "nbformat_minor": 0,
  "metadata": {
    "colab": {
      "provenance": [],
      "authorship_tag": "ABX9TyMgiNwPZhzVs+BOVinAFVyw",
      "include_colab_link": true
    },
    "kernelspec": {
      "name": "python3",
      "display_name": "Python 3"
    },
    "language_info": {
      "name": "python"
    }
  },
  "cells": [
    {
      "cell_type": "markdown",
      "metadata": {
        "id": "view-in-github",
        "colab_type": "text"
      },
      "source": [
        "<a href=\"https://colab.research.google.com/github/Santiagoangelramon-sistemas/Area_Perimetro_Circulo/blob/main/Diccionarios.ipynb\" target=\"_parent\"><img src=\"https://colab.research.google.com/assets/colab-badge.svg\" alt=\"Open In Colab\"/></a>"
      ]
    },
    {
      "cell_type": "markdown",
      "source": [
        "# Diccionarios\n",
        "\n",
        "- son platos estructurados, es decir, hacen referencia a una coleccion de datos.\n",
        "- Son una erupccion desordenada de pares de datos de la forma clave:valor,conocidos como elementos o items.\n",
        "- Son mutables, por tantos, una vez definido un diccionario se le pueden agregar nuevos elementos, modificar o eliminar algunos de los que ya tiene.\n",
        "- Tambien se les conoce como  mapa de hash o arreglos asociativos.\n",
        "- En python los diccionarios de tipo DICK y se utilisa la siguiente sintaxis para crear una variable de este tipo:\n",
        "\n",
        "```nombre_DICK = {clave1:valor1, clave2:valor2, ...}```\n",
        "\n",
        "- cada item o elemento tiene la forma clave:valor\n",
        "- En cada item hay una clave y uno o mas valores. Si se desconoce el valor, se puede llenar con \"None\"\n",
        "- Los elementos del diccionario se indexan por la clave\n",
        "- las claves solo puedenser mutables los datos\n",
        "- las clavesno se pueden reptir en el diccionario."
      ],
      "metadata": {
        "id": "TIyOVfIzpnJV"
      }
    },
    {
      "cell_type": "code",
      "execution_count": null,
      "metadata": {
        "colab": {
          "base_uri": "https://localhost:8080/"
        },
        "id": "_Tm00D6JpaJ9",
        "outputId": "2f6aa30c-0168-4ab0-89ec-6446891396b2"
      },
      "outputs": [
        {
          "output_type": "stream",
          "name": "stdout",
          "text": [
            "{'ene': 1, 'feb': 2, 'mar': 3, 'abr': 4, 'may': 5, 'jun': 6, 'jul': 7, 'ago': 8, 'sep': 9, 'oct': 10, 'nov': 11, 'dic': 12}\n",
            "{'ene': 1, 'feb': 2, 'mar': 3, 'abr': 4, 'may': 5, 'jun': 6, 'jul': 7, 'ago': 8, 'sep': 9, 'oct': 10, 'nov': 11, 'dic': 12}\n",
            "{'manzana': 34, 'pera': 45, 'uva': 23}\n",
            "{'manzana': 34, 'pera': 45, 'uva': 23, 'ceraza': 90, 'cereza': 100}\n",
            "{'manzana': 34, 'pera': 45, 'uva': 23, 'ceraza': 90}\n"
          ]
        }
      ],
      "source": [
        "# Diccionarios con clave tipo cadena\n",
        "\n",
        "num_meses = {'ene':1, 'feb':2, 'mar':3, 'abr':4, 'may':5, 'jun':6, 'jul':7, 'ago':8, 'sep':9, 'oct':10, 'nov':11, 'dic':12}\n",
        "print(num_meses)\n",
        "\n",
        "nombre_meses = dict(ene=1, feb=2, mar=3, abr=4, may=5, jun=6, jul=7, ago=8, sep=9, oct=10, nov=11, dic=12)\n",
        "print(nombre_meses)\n",
        "\n",
        "frutas = {\"manzana\":34, \"pera\":45, \"uva\":23}\n",
        "print(frutas)\n",
        "\n",
        "# agregar elementos\n",
        "frutas[\"ceraza\"] = 90\n",
        "\n",
        "# modificar un elemento\n",
        "frutas[\"cereza\"] = 100\n",
        "print(frutas)\n",
        "\n",
        "# eliminar un elemento\n",
        "del frutas[\"cereza\"]\n",
        "print(frutas)"
      ]
    }
  ]
}